{
 "cells": [
  {
   "cell_type": "markdown",
   "metadata": {},
   "source": [
    "### CLICLICLIMATO ###"
   ]
  },
  {
   "cell_type": "code",
   "execution_count": 2,
   "metadata": {},
   "outputs": [],
   "source": [
    "import numpy as np\n",
    "import matplotlib.pyplot as plt\n",
    "import pandas as pd\n",
    "import xarray as xr\n",
    "import random \n",
    "\n",
    "from tempest import casestudy\n",
    "from tempest import grid\n",
    "from tempest import storm_tracker\n",
    "from tempest import handler\n",
    "from tempest import joint_distrib\n",
    "\n",
    "from tempest.plots.hist import simple_hist\n",
    "settings_path = 'settings/sam3d.yaml'"
   ]
  },
  {
   "cell_type": "code",
   "execution_count": 3,
   "metadata": {},
   "outputs": [
    {
     "name": "stdout",
     "output_type": "stream",
     "text": [
      "Data loaded from /homedata/mcarenso/shear/SAM3d_Tropics/var_id_days_i_t.json\n",
      "Loading storms...\n",
      "loading storms from netcdf\n",
      "Warning: ecCodes 2.21.0 or higher is recommended. You are running version 2.16.0\n",
      "Time elapsed for loading storms: 2.87 seconds\n"
     ]
    }
   ],
   "source": [
    "# Instantiate CaseStudy by passing the settings. \n",
    "# Should also create appropriate directories\n",
    "hdlr = handler.Handler(settings_path)\n",
    "cs = casestudy.CaseStudy(hdlr, overwrite = False ,verbose = False)\n",
    "st = storm_tracker.StormTracker(cs, overwrite_storms = False, overwrite = False, verbose = True) #overwrite = True is super long, computes growth rate (triangle fit)"
   ]
  },
  {
   "cell_type": "code",
   "execution_count": 4,
   "metadata": {},
   "outputs": [
    {
     "name": "stdout",
     "output_type": "stream",
     "text": [
      "[6, 22, 29, 37, 45]\n"
     ]
    }
   ],
   "source": [
    "duration_min = 10\n",
    "surfmaxkm2_min = 25000\n",
    "save_storms_path = st.settings[\"DIR_DATA_OUT\"]+f\"save_storms_dmin{duration_min}_smin{surfmaxkm2_min}.nc\"\n",
    "if False : \n",
    "    storms = xr.open_dataset(st.file_storms)\n",
    "    storms = storms.where(storms.INT_duration > 10, drop = True) # 1min\n",
    "    storms = storms.where(storms.INT_surfmaxkm2_241K> 25000, drop = True)\n",
    "    storms.to_netcdf(save_storms_path)\n",
    "    storms.close\n",
    "else : \n",
    "    storms = xr.open_dataset(save_storms_path)\n",
    "\n",
    "## FileTracking is ft\n",
    "ft = storms[[ \n",
    "    \"INT_UTC_timeInit\", \"INT_UTC_timeEnd\", \"INT_duration\", \"INT_surfcumkm2_241K\", \"INT_velocityAvg\", \"INT_surfmaxkm2_241K\", ## General characteristics\n",
    "    \"LC_lon\", \"LC_lat\", \"LC_UTC_time\", \"LC_ecc_241K\", \"LC_orientation_241K\", \"LC_surfkm2_241K\", \"LC_tb_90th\", \"LC_velocity\" ## General characteristics\n",
    "             ]]\n",
    "\n",
    "test = xr.open_dataset(\"/bdd/DYAMOND/SAM-4km/OUT_3D/DYAMOND_9216x4608x74_7.5s_4km_4608_0000001440_PP.nc\")\n",
    "targets = [300, 2000, 4000, 8000, 12000]\n",
    "z_indices = [np.abs(test.z.values - target).argmin() for target in targets]\n",
    "print(z_indices)\n",
    "test.close()\n",
    "# z_indices  = [6, 22, 29, 37, 45]"
   ]
  },
  {
   "cell_type": "code",
   "execution_count": 10,
   "metadata": {},
   "outputs": [
    {
     "data": {
      "text/plain": [
       "array([975.308, 804.78 , 622.449, 367.137, 203.111], dtype=float32)"
      ]
     },
     "execution_count": 10,
     "metadata": {},
     "output_type": "execute_result"
    }
   ],
   "source": [
    "test.p.values[z_indices]\n"
   ]
  },
  {
   "cell_type": "code",
   "execution_count": 4,
   "metadata": {},
   "outputs": [
    {
     "name": "stdout",
     "output_type": "stream",
     "text": [
      "times : [1566. 1572. 1578. 1584. 1590. 1596.]\n",
      "extent : [90.62, 99.34, 17.62, 27.81]\n",
      "554 571 591\n"
     ]
    }
   ],
   "source": [
    "# choose an iDCS that has 3D times\n",
    "ft_3d = ft.sel(time=ft.time[(ft.time - st.i_t_start + cs.settings[\"TIME_RANGE\"][0]) % 6 == 0]) # Valid times for 3d var are %6==0 \n",
    "iDCS = random.choice(ft_3d.DCS_number.values)\n",
    "\n",
    "def get_frame_data(st, ft, iDCS):\n",
    "    \"\"\"\n",
    "    returns everything to compute the frame and fields of a DCS over it's lifetime\n",
    "    start and end corresponds to filetracking time index\n",
    "    time_array corresponds to i_t of global variables (seg_mask, precip, U,...)\n",
    "    \"\"\"\n",
    "\n",
    "    storm = ft.sel(DCS_number = iDCS)\n",
    "    start = np.max([0,int(storm.INT_UTC_timeInit.values/st.settings[\"NATIVE_TIMESTEP\"])-st.i_t_start])\n",
    "    end = 1+int(storm.INT_UTC_timeEnd.values/st.settings[\"NATIVE_TIMESTEP\"])-st.i_t_start\n",
    "    lon_array, lat_array = storm.LC_lon[start:end].values, storm.LC_lat[start:end].values\n",
    "    speed_array, time_array = storm.LC_velocity[start:end].values, storm.LC_UTC_time[start:end].values/1800 - st.i_t_start\n",
    "\n",
    "    assert time_array[0]==start\n",
    "    assert time_array[-1] +1 ==end\n",
    "\n",
    "    time_array = time_array +st.settings[\"TIME_RANGE\"][0]\n",
    "\n",
    "    time_smax = -1\n",
    "\n",
    "    if np.any(storm[\"LC_surfkm2_241K\"] == storm[\"INT_surfmaxkm2_241K\"]):\n",
    "        time_smax = storm.LC_UTC_time[storm[\"LC_surfkm2_241K\"] == storm[\"INT_surfmaxkm2_241K\"]][0]\n",
    "        time_smax = int(time_smax.values/1800 - st.i_t_start)\n",
    "    \n",
    "    return start, end, lon_array, lat_array, speed_array, time_array, time_smax\n",
    "\n",
    "\n",
    "def get_valid_3d(cs):\n",
    "    valid_3d = []\n",
    "    for key in cs.days_i_t_per_var_id[\"U\"].keys():\n",
    "        for vt in cs.days_i_t_per_var_id[\"U\"][key]:\n",
    "            valid_3d.append(vt)\n",
    "    return valid_3d\n",
    "\n",
    "valid_3d = get_valid_3d(cs)\n",
    "\n",
    "\n",
    "def get_frame_data_3d(st, ft, iDCS):\n",
    "    \"\"\"\n",
    "    returns everything to compute the frame and fields of a DCS over it's lifetime\n",
    "    start and end corresponds to filetracking time index\n",
    "    time_array corresponds to i_t of global variables (seg_mask, precip, U,...)\n",
    "    \"\"\"\n",
    "\n",
    "    storm = ft.sel(DCS_number = iDCS)\n",
    "    start = np.max([0,int(storm.INT_UTC_timeInit.values/st.settings[\"NATIVE_TIMESTEP\"])-st.i_t_start])\n",
    "    end = 1+int(storm.INT_UTC_timeEnd.values/st.settings[\"NATIVE_TIMESTEP\"])-st.i_t_start\n",
    "    lon_array, lat_array = storm.LC_lon[start:end].values, storm.LC_lat[start:end].values\n",
    "    speed_array, time_array = storm.LC_velocity[start:end].values, storm.LC_UTC_time[start:end].values/1800 - st.i_t_start\n",
    "\n",
    "    # Initialize speed arrays with zeros\n",
    "    speed_lon = np.zeros_like(lon_array)\n",
    "    speed_lat = np.zeros_like(lat_array)\n",
    "    for i in range(1, len(lon_array) - 1):\n",
    "        speed_lon[i] = (lon_array[i + 1] - lon_array[i - 1]) / 2 #*delta_t\n",
    "        speed_lat[i] = (lat_array[i + 1] - lat_array[i - 1]) / 2\n",
    "\n",
    "    assert time_array[0]==start\n",
    "    assert time_array[-1] +1 ==end\n",
    "\n",
    "    time_array = time_array +st.settings[\"TIME_RANGE\"][0]\n",
    "    mask = np.isin(time_array, list(valid_3d))\n",
    "\n",
    "    return start, end, lon_array[mask], lat_array[mask], speed_array[mask], time_array[mask], speed_lon[mask], speed_lat[mask]\n",
    "\n",
    "\n",
    "def get_extent_slices(lons, lats, large_scale_frame_size=4):\n",
    "    lon_min, lon_max = np.min(lons)-large_scale_frame_size, np.max(lons)+large_scale_frame_size\n",
    "    lat_min, lat_max = np.min(lats)-large_scale_frame_size, np.max(lats)+large_scale_frame_size\n",
    "    extent = [lon_min, lon_max, lat_min, lat_max]\n",
    "    slice_lon = slice(lon_min, lon_max)\n",
    "    slice_lat = slice(lat_min, lat_max)\n",
    "    return extent, slice_lon, slice_lat\n",
    "\n",
    "\n",
    "start, end, lons, lats, speeds, times, time_smax = get_frame_data(st, ft, iDCS)\n",
    "start, end, lons_3d, lats_3d, speeds_3d, times_3d, speed_lon_3d, speed_lat_3d = get_frame_data_3d(st, ft, iDCS)\n",
    "extent, slice_lon, slice_lat = get_extent_slices(lons_3d, lats_3d)\n",
    "\n",
    "print(\"times :\" , times_3d)\n",
    "print(\"extent :\", extent)\n",
    "\n",
    "print(start, time_smax, end)"
   ]
  },
  {
   "cell_type": "code",
   "execution_count": 5,
   "metadata": {},
   "outputs": [
    {
     "ename": "KeyboardInterrupt",
     "evalue": "",
     "output_type": "error",
     "traceback": [
      "\u001b[0;31m---------------------------------------------------------------------------\u001b[0m",
      "\u001b[0;31mKeyboardInterrupt\u001b[0m                         Traceback (most recent call last)",
      "Cell \u001b[0;32mIn[5], line 11\u001b[0m\n\u001b[1;32m      8\u001b[0m i_t \u001b[38;5;241m=\u001b[39m times_3d[i]\n\u001b[1;32m     10\u001b[0m \u001b[38;5;66;03m### U & V Hodograph ###\u001b[39;00m\n\u001b[0;32m---> 11\u001b[0m list_u \u001b[38;5;241m=\u001b[39m [hdlr\u001b[38;5;241m.\u001b[39mload_var(cs, \u001b[38;5;124m\"\u001b[39m\u001b[38;5;124mU\u001b[39m\u001b[38;5;124m\"\u001b[39m, i_t, z_idx \u001b[38;5;241m=\u001b[39m z, sel_dict \u001b[38;5;241m=\u001b[39m le_dico_court) \u001b[38;5;28;01mfor\u001b[39;00m z \u001b[38;5;129;01min\u001b[39;00m z_indices]\n\u001b[1;32m     12\u001b[0m list_v \u001b[38;5;241m=\u001b[39m [hdlr\u001b[38;5;241m.\u001b[39mload_var(cs, \u001b[38;5;124m\"\u001b[39m\u001b[38;5;124mV\u001b[39m\u001b[38;5;124m\"\u001b[39m, i_t, z_idx \u001b[38;5;241m=\u001b[39m z, sel_dict \u001b[38;5;241m=\u001b[39m le_dico_court) \u001b[38;5;28;01mfor\u001b[39;00m z \u001b[38;5;129;01min\u001b[39;00m z_indices]\n\u001b[1;32m     13\u001b[0m hodo_colors \u001b[38;5;241m=\u001b[39m [\u001b[38;5;124m\"\u001b[39m\u001b[38;5;124mblue\u001b[39m\u001b[38;5;124m\"\u001b[39m, \u001b[38;5;124m\"\u001b[39m\u001b[38;5;124morange\u001b[39m\u001b[38;5;124m\"\u001b[39m, \u001b[38;5;124m\"\u001b[39m\u001b[38;5;124mgreen\u001b[39m\u001b[38;5;124m\"\u001b[39m, \u001b[38;5;124m\"\u001b[39m\u001b[38;5;124mred\u001b[39m\u001b[38;5;124m\"\u001b[39m, \u001b[38;5;124m\"\u001b[39m\u001b[38;5;124mpurple\u001b[39m\u001b[38;5;124m\"\u001b[39m]\n",
      "Cell \u001b[0;32mIn[5], line 11\u001b[0m, in \u001b[0;36m<listcomp>\u001b[0;34m(.0)\u001b[0m\n\u001b[1;32m      8\u001b[0m i_t \u001b[38;5;241m=\u001b[39m times_3d[i]\n\u001b[1;32m     10\u001b[0m \u001b[38;5;66;03m### U & V Hodograph ###\u001b[39;00m\n\u001b[0;32m---> 11\u001b[0m list_u \u001b[38;5;241m=\u001b[39m [\u001b[43mhdlr\u001b[49m\u001b[38;5;241;43m.\u001b[39;49m\u001b[43mload_var\u001b[49m\u001b[43m(\u001b[49m\u001b[43mcs\u001b[49m\u001b[43m,\u001b[49m\u001b[43m \u001b[49m\u001b[38;5;124;43m\"\u001b[39;49m\u001b[38;5;124;43mU\u001b[39;49m\u001b[38;5;124;43m\"\u001b[39;49m\u001b[43m,\u001b[49m\u001b[43m \u001b[49m\u001b[43mi_t\u001b[49m\u001b[43m,\u001b[49m\u001b[43m \u001b[49m\u001b[43mz_idx\u001b[49m\u001b[43m \u001b[49m\u001b[38;5;241;43m=\u001b[39;49m\u001b[43m \u001b[49m\u001b[43mz\u001b[49m\u001b[43m,\u001b[49m\u001b[43m \u001b[49m\u001b[43msel_dict\u001b[49m\u001b[43m \u001b[49m\u001b[38;5;241;43m=\u001b[39;49m\u001b[43m \u001b[49m\u001b[43mle_dico_court\u001b[49m\u001b[43m)\u001b[49m \u001b[38;5;28;01mfor\u001b[39;00m z \u001b[38;5;129;01min\u001b[39;00m z_indices]\n\u001b[1;32m     12\u001b[0m list_v \u001b[38;5;241m=\u001b[39m [hdlr\u001b[38;5;241m.\u001b[39mload_var(cs, \u001b[38;5;124m\"\u001b[39m\u001b[38;5;124mV\u001b[39m\u001b[38;5;124m\"\u001b[39m, i_t, z_idx \u001b[38;5;241m=\u001b[39m z, sel_dict \u001b[38;5;241m=\u001b[39m le_dico_court) \u001b[38;5;28;01mfor\u001b[39;00m z \u001b[38;5;129;01min\u001b[39;00m z_indices]\n\u001b[1;32m     13\u001b[0m hodo_colors \u001b[38;5;241m=\u001b[39m [\u001b[38;5;124m\"\u001b[39m\u001b[38;5;124mblue\u001b[39m\u001b[38;5;124m\"\u001b[39m, \u001b[38;5;124m\"\u001b[39m\u001b[38;5;124morange\u001b[39m\u001b[38;5;124m\"\u001b[39m, \u001b[38;5;124m\"\u001b[39m\u001b[38;5;124mgreen\u001b[39m\u001b[38;5;124m\"\u001b[39m, \u001b[38;5;124m\"\u001b[39m\u001b[38;5;124mred\u001b[39m\u001b[38;5;124m\"\u001b[39m, \u001b[38;5;124m\"\u001b[39m\u001b[38;5;124mpurple\u001b[39m\u001b[38;5;124m\"\u001b[39m]\n",
      "File \u001b[0;32m~/code/shear/tempest/handler.py:101\u001b[0m, in \u001b[0;36mHandler.load_var\u001b[0;34m(self, casestudy, var_id, i_t, z_idx, sel_dict)\u001b[0m\n\u001b[1;32m     98\u001b[0m str_lat_slice \u001b[38;5;241m=\u001b[39m \u001b[38;5;124mf\u001b[39m\u001b[38;5;124m\"\u001b[39m\u001b[38;5;132;01m{\u001b[39;00mlat_min\u001b[38;5;132;01m}\u001b[39;00m\u001b[38;5;124m,\u001b[39m\u001b[38;5;132;01m{\u001b[39;00mlat_max\u001b[38;5;132;01m}\u001b[39;00m\u001b[38;5;124m\"\u001b[39m\n\u001b[1;32m    100\u001b[0m ncks_command \u001b[38;5;241m=\u001b[39m \u001b[38;5;124mf\u001b[39m\u001b[38;5;124m\"\u001b[39m\u001b[38;5;124mncks -O -d lon,\u001b[39m\u001b[38;5;132;01m{\u001b[39;00mstr_lon_slice\u001b[38;5;132;01m}\u001b[39;00m\u001b[38;5;124m -d lat,\u001b[39m\u001b[38;5;132;01m{\u001b[39;00mstr_lat_slice\u001b[38;5;132;01m}\u001b[39;00m\u001b[38;5;124m -d time,\u001b[39m\u001b[38;5;132;01m{\u001b[39;00m\u001b[38;5;241m0\u001b[39m\u001b[38;5;132;01m}\u001b[39;00m\u001b[38;5;124m -d z,\u001b[39m\u001b[38;5;132;01m{\u001b[39;00mz_idx\u001b[38;5;132;01m}\u001b[39;00m\u001b[38;5;124m \u001b[39m\u001b[38;5;132;01m{\u001b[39;00mfilepath_var\u001b[38;5;132;01m}\u001b[39;00m\u001b[38;5;124m \u001b[39m\u001b[38;5;132;01m{\u001b[39;00mtemp_file\u001b[38;5;132;01m}\u001b[39;00m\u001b[38;5;124m\"\u001b[39m\n\u001b[0;32m--> 101\u001b[0m \u001b[43msubprocess\u001b[49m\u001b[38;5;241;43m.\u001b[39;49m\u001b[43mrun\u001b[49m\u001b[43m(\u001b[49m\u001b[43mncks_command\u001b[49m\u001b[43m,\u001b[49m\u001b[43m \u001b[49m\u001b[43mshell\u001b[49m\u001b[38;5;241;43m=\u001b[39;49m\u001b[38;5;28;43;01mTrue\u001b[39;49;00m\u001b[43m)\u001b[49m\n\u001b[1;32m    102\u001b[0m \u001b[38;5;66;03m# old # var = xr.open_dataset(filepath_var).sel(lon=grid.casestudy.lon_slice,lat=grid.casestudy.lat_slice).isel(time=0, z=z) #, chunks = chunks)\u001b[39;00m\n\u001b[1;32m    103\u001b[0m var \u001b[38;5;241m=\u001b[39m xr\u001b[38;5;241m.\u001b[39mopen_dataset(temp_file)\n",
      "File \u001b[0;32m/net/nfs/tools/u20/Python/miniconda3_py310_22.11.1-1/envs/pangeo-meso-2023.04.15/lib/python3.10/subprocess.py:505\u001b[0m, in \u001b[0;36mrun\u001b[0;34m(input, capture_output, timeout, check, *popenargs, **kwargs)\u001b[0m\n\u001b[1;32m    503\u001b[0m \u001b[38;5;28;01mwith\u001b[39;00m Popen(\u001b[38;5;241m*\u001b[39mpopenargs, \u001b[38;5;241m*\u001b[39m\u001b[38;5;241m*\u001b[39mkwargs) \u001b[38;5;28;01mas\u001b[39;00m process:\n\u001b[1;32m    504\u001b[0m     \u001b[38;5;28;01mtry\u001b[39;00m:\n\u001b[0;32m--> 505\u001b[0m         stdout, stderr \u001b[38;5;241m=\u001b[39m \u001b[43mprocess\u001b[49m\u001b[38;5;241;43m.\u001b[39;49m\u001b[43mcommunicate\u001b[49m\u001b[43m(\u001b[49m\u001b[38;5;28;43minput\u001b[39;49m\u001b[43m,\u001b[49m\u001b[43m \u001b[49m\u001b[43mtimeout\u001b[49m\u001b[38;5;241;43m=\u001b[39;49m\u001b[43mtimeout\u001b[49m\u001b[43m)\u001b[49m\n\u001b[1;32m    506\u001b[0m     \u001b[38;5;28;01mexcept\u001b[39;00m TimeoutExpired \u001b[38;5;28;01mas\u001b[39;00m exc:\n\u001b[1;32m    507\u001b[0m         process\u001b[38;5;241m.\u001b[39mkill()\n",
      "File \u001b[0;32m/net/nfs/tools/u20/Python/miniconda3_py310_22.11.1-1/envs/pangeo-meso-2023.04.15/lib/python3.10/subprocess.py:1146\u001b[0m, in \u001b[0;36mPopen.communicate\u001b[0;34m(self, input, timeout)\u001b[0m\n\u001b[1;32m   1144\u001b[0m         stderr \u001b[38;5;241m=\u001b[39m \u001b[38;5;28mself\u001b[39m\u001b[38;5;241m.\u001b[39mstderr\u001b[38;5;241m.\u001b[39mread()\n\u001b[1;32m   1145\u001b[0m         \u001b[38;5;28mself\u001b[39m\u001b[38;5;241m.\u001b[39mstderr\u001b[38;5;241m.\u001b[39mclose()\n\u001b[0;32m-> 1146\u001b[0m     \u001b[38;5;28;43mself\u001b[39;49m\u001b[38;5;241;43m.\u001b[39;49m\u001b[43mwait\u001b[49m\u001b[43m(\u001b[49m\u001b[43m)\u001b[49m\n\u001b[1;32m   1147\u001b[0m \u001b[38;5;28;01melse\u001b[39;00m:\n\u001b[1;32m   1148\u001b[0m     \u001b[38;5;28;01mif\u001b[39;00m timeout \u001b[38;5;129;01mis\u001b[39;00m \u001b[38;5;129;01mnot\u001b[39;00m \u001b[38;5;28;01mNone\u001b[39;00m:\n",
      "File \u001b[0;32m/net/nfs/tools/u20/Python/miniconda3_py310_22.11.1-1/envs/pangeo-meso-2023.04.15/lib/python3.10/subprocess.py:1209\u001b[0m, in \u001b[0;36mPopen.wait\u001b[0;34m(self, timeout)\u001b[0m\n\u001b[1;32m   1207\u001b[0m     endtime \u001b[38;5;241m=\u001b[39m _time() \u001b[38;5;241m+\u001b[39m timeout\n\u001b[1;32m   1208\u001b[0m \u001b[38;5;28;01mtry\u001b[39;00m:\n\u001b[0;32m-> 1209\u001b[0m     \u001b[38;5;28;01mreturn\u001b[39;00m \u001b[38;5;28;43mself\u001b[39;49m\u001b[38;5;241;43m.\u001b[39;49m\u001b[43m_wait\u001b[49m\u001b[43m(\u001b[49m\u001b[43mtimeout\u001b[49m\u001b[38;5;241;43m=\u001b[39;49m\u001b[43mtimeout\u001b[49m\u001b[43m)\u001b[49m\n\u001b[1;32m   1210\u001b[0m \u001b[38;5;28;01mexcept\u001b[39;00m \u001b[38;5;167;01mKeyboardInterrupt\u001b[39;00m:\n\u001b[1;32m   1211\u001b[0m     \u001b[38;5;66;03m# https://bugs.python.org/issue25942\u001b[39;00m\n\u001b[1;32m   1212\u001b[0m     \u001b[38;5;66;03m# The first keyboard interrupt waits briefly for the child to\u001b[39;00m\n\u001b[1;32m   1213\u001b[0m     \u001b[38;5;66;03m# exit under the common assumption that it also received the ^C\u001b[39;00m\n\u001b[1;32m   1214\u001b[0m     \u001b[38;5;66;03m# generated SIGINT and will exit rapidly.\u001b[39;00m\n\u001b[1;32m   1215\u001b[0m     \u001b[38;5;28;01mif\u001b[39;00m timeout \u001b[38;5;129;01mis\u001b[39;00m \u001b[38;5;129;01mnot\u001b[39;00m \u001b[38;5;28;01mNone\u001b[39;00m:\n",
      "File \u001b[0;32m/net/nfs/tools/u20/Python/miniconda3_py310_22.11.1-1/envs/pangeo-meso-2023.04.15/lib/python3.10/subprocess.py:1943\u001b[0m, in \u001b[0;36mPopen._wait\u001b[0;34m(self, timeout)\u001b[0m\n\u001b[1;32m   1941\u001b[0m \u001b[38;5;28;01mif\u001b[39;00m \u001b[38;5;28mself\u001b[39m\u001b[38;5;241m.\u001b[39mreturncode \u001b[38;5;129;01mis\u001b[39;00m \u001b[38;5;129;01mnot\u001b[39;00m \u001b[38;5;28;01mNone\u001b[39;00m:\n\u001b[1;32m   1942\u001b[0m     \u001b[38;5;28;01mbreak\u001b[39;00m  \u001b[38;5;66;03m# Another thread waited.\u001b[39;00m\n\u001b[0;32m-> 1943\u001b[0m (pid, sts) \u001b[38;5;241m=\u001b[39m \u001b[38;5;28;43mself\u001b[39;49m\u001b[38;5;241;43m.\u001b[39;49m\u001b[43m_try_wait\u001b[49m\u001b[43m(\u001b[49m\u001b[38;5;241;43m0\u001b[39;49m\u001b[43m)\u001b[49m\n\u001b[1;32m   1944\u001b[0m \u001b[38;5;66;03m# Check the pid and loop as waitpid has been known to\u001b[39;00m\n\u001b[1;32m   1945\u001b[0m \u001b[38;5;66;03m# return 0 even without WNOHANG in odd situations.\u001b[39;00m\n\u001b[1;32m   1946\u001b[0m \u001b[38;5;66;03m# http://bugs.python.org/issue14396.\u001b[39;00m\n\u001b[1;32m   1947\u001b[0m \u001b[38;5;28;01mif\u001b[39;00m pid \u001b[38;5;241m==\u001b[39m \u001b[38;5;28mself\u001b[39m\u001b[38;5;241m.\u001b[39mpid:\n",
      "File \u001b[0;32m/net/nfs/tools/u20/Python/miniconda3_py310_22.11.1-1/envs/pangeo-meso-2023.04.15/lib/python3.10/subprocess.py:1901\u001b[0m, in \u001b[0;36mPopen._try_wait\u001b[0;34m(self, wait_flags)\u001b[0m\n\u001b[1;32m   1899\u001b[0m \u001b[38;5;250m\u001b[39m\u001b[38;5;124;03m\"\"\"All callers to this function MUST hold self._waitpid_lock.\"\"\"\u001b[39;00m\n\u001b[1;32m   1900\u001b[0m \u001b[38;5;28;01mtry\u001b[39;00m:\n\u001b[0;32m-> 1901\u001b[0m     (pid, sts) \u001b[38;5;241m=\u001b[39m \u001b[43mos\u001b[49m\u001b[38;5;241;43m.\u001b[39;49m\u001b[43mwaitpid\u001b[49m\u001b[43m(\u001b[49m\u001b[38;5;28;43mself\u001b[39;49m\u001b[38;5;241;43m.\u001b[39;49m\u001b[43mpid\u001b[49m\u001b[43m,\u001b[49m\u001b[43m \u001b[49m\u001b[43mwait_flags\u001b[49m\u001b[43m)\u001b[49m\n\u001b[1;32m   1902\u001b[0m \u001b[38;5;28;01mexcept\u001b[39;00m \u001b[38;5;167;01mChildProcessError\u001b[39;00m:\n\u001b[1;32m   1903\u001b[0m     \u001b[38;5;66;03m# This happens if SIGCLD is set to be ignored or waiting\u001b[39;00m\n\u001b[1;32m   1904\u001b[0m     \u001b[38;5;66;03m# for child processes has otherwise been disabled for our\u001b[39;00m\n\u001b[1;32m   1905\u001b[0m     \u001b[38;5;66;03m# process.  This child is dead, we can't get the status.\u001b[39;00m\n\u001b[1;32m   1906\u001b[0m     pid \u001b[38;5;241m=\u001b[39m \u001b[38;5;28mself\u001b[39m\u001b[38;5;241m.\u001b[39mpid\n",
      "\u001b[0;31mKeyboardInterrupt\u001b[0m: "
     ]
    }
   ],
   "source": [
    "times_3d_conv = [time for time in times_3d if time < time_smax + st.settings[\"TIME_RANGE\"][0]]\n",
    "t = len(times_3d_conv)\n",
    "\n",
    "le_dico_long = {\"latitude\" : slice_lat, \"longitude\" : slice_lon}\n",
    "le_dico_court = {    \"lat\" : slice_lat,       \"lon\" : slice_lon}\n",
    "\n",
    "for i in range(t):\n",
    "    i_t = times_3d[i]\n",
    "\n",
    "    ### U & V Hodograph ###\n",
    "    list_u = [hdlr.load_var(cs, \"U\", i_t, z_idx = z, sel_dict = le_dico_court) for z in z_indices]\n",
    "    list_v = [hdlr.load_var(cs, \"V\", i_t, z_idx = z, sel_dict = le_dico_court) for z in z_indices]\n",
    "    hodo_colors = [\"blue\", \"orange\", \"green\", \"red\", \"purple\"]\n",
    "    for u, v, La_Couleur_De_L_hodographe  in zip(list_u, list_v, hodo_colors):\n",
    "        ## So what do we plot haha it depends on a radius ? square ? cloud_mask ? \n",
    "        u_clean, v_clean = u.U[0,0].values, v.V[0,0].values\n",
    "        u_mean, v_mean = np.mean(u_clean), np.mean(v_clean)\n",
    "        # print(f\"{La_Couleur_De_L_hodographe} wind norm\", np.sqrt(u_mean**2 + v_mean**2))\n",
    "        # ax.quiver(lons_3d[i], lats_3d[i], u_mean, v_mean, color=La_Couleur_De_L_hodographe, scale = 500/np.sqrt(u_mean**2 + v_mean**2)) #, angles='xy', scale_units='xy'\n",
    "\n",
    "    # plot prec (threshold, percentile based?)\n",
    "    prec = hdlr.load_var(cs, \"Prec\", i_t, sel_dict = le_dico_court).sel(le_dico_court).values\n",
    "    prec_masked = np.ma.masked_less_equal(prec, 3)\n",
    "    # ax.imshow(prec_masked, origin = 'lower', cmap = prec_cmap, interpolation='nearest', alpha = 1, extent = extent)\n",
    "\n",
    "\n",
    "    # plot central cloud with contour TODO a func\n",
    "    seg = hdlr.load_seg(i_t, sel_dict = le_dico_long)[0].values #.sel(le_dico_long)\n",
    "    nan_mask = np.isnan(seg)\n",
    "    output = np.full_like(seg, 0.5, dtype = float)\n",
    "    output[nan_mask] = 0\n",
    "    output[seg == iDCS] = 1\n",
    "    # contour = ax.contour(output, levels=[0.75], colors='red', linewidths=0.5, linestyles='solid', extent = extent, transform=ccrs.PlateCarree())\n",
    "    output[seg == iDCS] = 0.5\n",
    "    # ax.imshow(output, origin = 'lower', cmap=cmap, interpolation='nearest', alpha = 1, norm=mcolors.Normalize(vmin=0, vmax=1), extent = extent)\n",
    "\n",
    "    age_to_smax = int(100*np.round((i_t - st.settings[\"TIME_RANGE\"][0] - start) / (time_smax - start), 2))\n",
    "    title = f\"{iDCS}, age : {age_to_smax}%\"+\"\\n\"+f'{hdlr.i_t_to_nice_datetime(i_t)}'"
   ]
  },
  {
   "cell_type": "code",
   "execution_count": 6,
   "metadata": {},
   "outputs": [
    {
     "name": "stdout",
     "output_type": "stream",
     "text": [
      "[1008, 1014, 1020, 1026, 1032, 1038, 1044, 1050, 1056, 1062, 1068, 1074, 1080, 1086, 1092, 1098, 1104, 1110, 1116, 1122, 1128, 1134, 1140, 1146, 1152, 1158, 1164, 1170, 1176, 1182, 1188, 1194, 1200, 1206, 1212, 1218, 1224, 1230, 1236, 1242, 1248, 1254, 1260, 1266, 1272, 1278, 1284, 1290, 1296, 1302, 1308, 1314, 1320, 1326, 1332, 1338, 1344, 1350, 1356, 1362, 1368, 1374, 1380, 1386, 1392, 1398, 1404, 1410, 1416, 1422, 1428, 1434, 1440, 1446, 1452, 1458, 1464, 1470, 1476, 1482, 1488, 1494, 1500, 1506, 1512, 1518, 1524, 1530, 1536, 1542, 1548, 1554, 1560, 1566, 1572, 1578, 1584, 1590, 1596, 1602, 1608, 1614, 1620, 1626, 1632, 1638, 1644, 1650, 1656, 1662, 1668, 1674, 1680, 1686, 1692, 1698, 1704, 1710, 1716, 1722, 1728, 1734, 1740, 1746, 1752, 1758, 1764, 1770, 1776, 1782, 1788, 1794, 1800, 1806, 1812, 1818, 1824, 1830, 1836, 1842, 1848, 1854, 1860, 1866, 1872, 1878, 1884, 1890, 1896, 1902, 1908, 1914]\n"
     ]
    }
   ],
   "source": [
    "all_times_3d = []\n",
    "for key in cs.days_i_t_per_var_id[\"U\"].keys():\n",
    "    all_times_3d.extend(cs.days_i_t_per_var_id[\"U\"][key])\n",
    "print(all_times_3d)"
   ]
  },
  {
   "cell_type": "code",
   "execution_count": 113,
   "metadata": {},
   "outputs": [],
   "source": [
    "import cartopy.crs as ccrs\n",
    "\n",
    "lon_min, lon_max = 0, 360\n",
    "lat_min, lat_max = -15, 30\n",
    "\n",
    "c_lon = 0 #(lon_min+lon_max)/2\n",
    "\n",
    "dict_region_long = {\"longitude\" : slice(lon_min, lon_max), \"latitude\" : slice(lat_min, lat_max)}\n",
    "dict_region_short = {     \"lon\" : slice(lon_min, lon_max),      \"lat\" : slice(lat_min, lat_max)}\n",
    "\n",
    "def wind_shear_animate(i):\n",
    "    print(i)\n",
    "    for z_idx, ax in zip(z_indices, axs):\n",
    "        ax.clear()\n",
    "        i_t = all_times_3d[i]\n",
    "\n",
    "        new_lon = np.arange(lon_min, lon_max + 1, 2)\n",
    "        new_lat = np.arange(lat_min, lat_max + 1, 2)\n",
    "\n",
    "        ### U & V Hodograph ###\n",
    "        u = hdlr.load_var(cs, \"U\", i_t, z_idx = z_idx, sel_dict = dict_region_short).isel({\"time\" : 0, \"z\" : 0}).interp(lon=new_lon, lat=new_lat)\n",
    "        v = hdlr.load_var(cs, \"V\", i_t, z_idx = z_idx, sel_dict = dict_region_short).isel({\"time\" : 0, \"z\" : 0}).interp(lon=new_lon, lat=new_lat)\n",
    "\n",
    "        Lon, Lat = np.meshgrid(new_lon, new_lat)\n",
    "\n",
    "        hodo_colors = {6 : \"blue\", 22 : \"orange\", 29 : \"green\", 37 : \"red\", 45 : \"purple\"}\n",
    "\n",
    "        u_clean, v_clean = u.U.values, v.V.values\n",
    "        # u_mean, v_mean = np.mean(u_clean), np.mean(v_clean)\n",
    "        q = ax.quiver(Lon, Lat, u_clean, v_clean, color=hodo_colors[z_idx], scale = 1000, \n",
    "                    headaxislength = 1, \n",
    "                    headlength = 10,\n",
    "                    transform=ccrs.Mercator(central_longitude = c_lon)) #scale=2/np.sqrt(u_mean**2 + v_mean**2),\n",
    "        # break \n",
    "\n",
    "        ax.quiverkey(q, 0.9, -0.1, 1, '1 m/s', labelpos='E')\n",
    "        ax.set_extent([lon_min, lon_max, lat_min, lat_max], crs=ccrs.Mercator(central_longitude = c_lon))  \n",
    "\n",
    "    return ax\n",
    "\n",
    "\n",
    "# fig, axs = plt.subplots(5, 1, figsize=((lon_max-lon_min), (lat_max-lat_min)), subplot_kw={'projection': ccrs.Mercator(central_longitude = c_lon)})\n",
    "# Lon, Lat, list_u, list_v = wind_shear_animate(0) "
   ]
  },
  {
   "cell_type": "code",
   "execution_count": null,
   "metadata": {},
   "outputs": [
    {
     "name": "stdout",
     "output_type": "stream",
     "text": [
      "0\n",
      "0\n",
      "1\n",
      "2\n",
      "3\n",
      "4\n",
      "5\n"
     ]
    },
    {
     "name": "stderr",
     "output_type": "stream",
     "text": [
      "ncks: ERROR file /bdd/DYAMOND/SAM-4km/OUT_3D/DYAMOND_9216x4608x74_7.5s_4km_4608_0000249120_V.nc not found. It does not exist on the local filesystem, nor does it match remote filename patterns (e.g., http://foo or foo.bar.edu:file).\n",
      "ncks: HINT file-not-found errors usually arise from filename typos, incorrect paths, missing files, or capricious gods. Please verify spelling and location of requested file. If the file resides on a High Performance Storage System (HPSS) accessible via the 'hsi' command, then add the --hpss option and re-try command.\n",
      "ncks: ERROR file /bdd/DYAMOND/SAM-4km/OUT_3D/DYAMOND_9216x4608x74_7.5s_4km_4608_0000249120_V.nc not found. It does not exist on the local filesystem, nor does it match remote filename patterns (e.g., http://foo or foo.bar.edu:file).\n",
      "ncks: HINT file-not-found errors usually arise from filename typos, incorrect paths, missing files, or capricious gods. Please verify spelling and location of requested file. If the file resides on a High Performance Storage System (HPSS) accessible via the 'hsi' command, then add the --hpss option and re-try command.\n",
      "ncks: ERROR file /bdd/DYAMOND/SAM-4km/OUT_3D/DYAMOND_9216x4608x74_7.5s_4km_4608_0000249120_V.nc not found. It does not exist on the local filesystem, nor does it match remote filename patterns (e.g., http://foo or foo.bar.edu:file).\n",
      "ncks: HINT file-not-found errors usually arise from filename typos, incorrect paths, missing files, or capricious gods. Please verify spelling and location of requested file. If the file resides on a High Performance Storage System (HPSS) accessible via the 'hsi' command, then add the --hpss option and re-try command.\n",
      "ncks: ERROR file /bdd/DYAMOND/SAM-4km/OUT_3D/DYAMOND_9216x4608x74_7.5s_4km_4608_0000249120_V.nc not found. It does not exist on the local filesystem, nor does it match remote filename patterns (e.g., http://foo or foo.bar.edu:file).\n",
      "ncks: HINT file-not-found errors usually arise from filename typos, incorrect paths, missing files, or capricious gods. Please verify spelling and location of requested file. If the file resides on a High Performance Storage System (HPSS) accessible via the 'hsi' command, then add the --hpss option and re-try command.\n",
      "ncks: ERROR file /bdd/DYAMOND/SAM-4km/OUT_3D/DYAMOND_9216x4608x74_7.5s_4km_4608_0000249120_V.nc not found. It does not exist on the local filesystem, nor does it match remote filename patterns (e.g., http://foo or foo.bar.edu:file).\n",
      "ncks: HINT file-not-found errors usually arise from filename typos, incorrect paths, missing files, or capricious gods. Please verify spelling and location of requested file. If the file resides on a High Performance Storage System (HPSS) accessible via the 'hsi' command, then add the --hpss option and re-try command.\n"
     ]
    },
    {
     "name": "stdout",
     "output_type": "stream",
     "text": [
      "6\n",
      "7\n",
      "8\n",
      "9\n",
      "10\n",
      "11\n",
      "12\n",
      "13\n",
      "14\n",
      "15\n",
      "16\n",
      "17\n",
      "18\n",
      "19\n",
      "20\n",
      "21\n",
      "22\n",
      "23\n",
      "24\n",
      "25\n",
      "26\n",
      "27\n",
      "28\n",
      "29\n",
      "30\n",
      "31\n",
      "32\n",
      "33\n",
      "34\n",
      "35\n",
      "36\n",
      "37\n",
      "38\n",
      "39\n",
      "40\n",
      "41\n",
      "42\n",
      "43\n",
      "44\n",
      "45\n",
      "46\n",
      "47\n",
      "48\n",
      "49\n",
      "50\n",
      "51\n",
      "52\n",
      "53\n",
      "54\n",
      "55\n",
      "56\n",
      "57\n",
      "58\n",
      "59\n",
      "60\n",
      "61\n",
      "62\n",
      "63\n",
      "64\n",
      "65\n",
      "66\n",
      "67\n",
      "68\n",
      "69\n",
      "70\n",
      "71\n",
      "72\n",
      "73\n",
      "74\n",
      "75\n",
      "76\n",
      "77\n",
      "78\n",
      "79\n",
      "80\n",
      "81\n",
      "82\n",
      "83\n",
      "84\n",
      "85\n",
      "86\n",
      "87\n",
      "88\n",
      "89\n",
      "90\n",
      "91\n",
      "92\n",
      "93\n",
      "94\n",
      "95\n",
      "96\n",
      "97\n",
      "98\n",
      "99\n",
      "100\n",
      "101\n",
      "102\n",
      "103\n",
      "104\n",
      "105\n",
      "106\n",
      "107\n",
      "108\n",
      "109\n",
      "110\n",
      "111\n",
      "112\n",
      "113\n",
      "114\n",
      "115\n",
      "116\n",
      "117\n",
      "118\n",
      "119\n",
      "120\n",
      "121\n",
      "122\n",
      "123\n",
      "124\n",
      "125\n",
      "126\n",
      "127\n",
      "128\n",
      "129\n",
      "130\n",
      "131\n",
      "132\n",
      "133\n",
      "134\n"
     ]
    },
    {
     "name": "stderr",
     "output_type": "stream",
     "text": [
      "Animation size has reached 2099872594 bytes, exceeding the limit of 2097152000.0. If you're sure you want a larger animation embedded, set the animation.embed_limit rc parameter to a larger value (in MB). This and further frames will be dropped.\n"
     ]
    },
    {
     "name": "stdout",
     "output_type": "stream",
     "text": [
      "135\n",
      "136\n",
      "137\n",
      "138\n",
      "139\n",
      "140\n",
      "141\n",
      "142\n",
      "143\n",
      "144\n",
      "145\n",
      "146\n",
      "147\n",
      "148\n",
      "149\n",
      "150\n",
      "151\n"
     ]
    }
   ],
   "source": [
    "import matplotlib.animation as animation\n",
    "from matplotlib import rcParams\n",
    "rcParams['animation.embed_limit'] = 2000  # Setting limit to 1 GB\n",
    "\n",
    "fig, axs = plt.subplots(5, 1, figsize=((lon_max-lon_min), (lat_max-lat_min)), subplot_kw={'projection': ccrs.Mercator(central_longitude = c_lon)})\n",
    "t = len(all_times_3d)\n",
    "\n",
    "plt.close('all')\n",
    "\n",
    "ani = animation.FuncAnimation(fig, wind_shear_animate, frames=t, blit=False)\n",
    "\n",
    "from IPython.display import HTML\n",
    "HTML(ani.to_jshtml())"
   ]
  },
  {
   "cell_type": "code",
   "execution_count": null,
   "metadata": {},
   "outputs": [],
   "source": [
    "ani.save(f'climato_shear_tropics.mp4', writer='ffmpeg', fps=8)"
   ]
  },
  {
   "cell_type": "markdown",
   "metadata": {},
   "source": [
    "## Finally show"
   ]
  },
  {
   "cell_type": "code",
   "execution_count": 14,
   "metadata": {},
   "outputs": [
    {
     "data": {
      "image/png": "[encoded data removed]",
      "text/plain": [
       "<Figure size 600x600 with 1 Axes>"
      ]
     },
     "metadata": {},
     "output_type": "display_data"
    }
   ],
   "source": [
    "import matplotlib.pyplot as plt\n",
    "import matplotlib.animation as animation\n",
    "import matplotlib.colors as mcolors\n",
    "from matplotlib.colors import LinearSegmentedColormap\n",
    "import cartopy.crs as ccrs\n",
    "import cartopy.feature as cfeature\n",
    "\n",
    "\n",
    "# Initialize figure and axis\n",
    "fig, ax = plt.subplots(figsize=(6, 6), subplot_kw={'projection': ccrs.PlateCarree()})\n",
    "\n",
    "colors = [(1, 1, 1, 0), (0.8, 0.8, 0.8, 0.3), (0.5, 0.5, 0.5, 1)]  # RGBA for light grey to very light grey (with transparency)\n",
    "cmap = LinearSegmentedColormap.from_list(\"light_grey_scale\", colors)\n",
    "prec_cmap =  plt.get_cmap(\"nipy_spectral\")\n",
    "w_cmap = plt.get_cmap(\"viridis\")\n",
    "prec_cmap.set_bad(color=(1, 1, 1, 0))  # I think that's useless but unsure the way maps are superimposed\n",
    "cmap.set_bad(color=(1, 1, 1, 0))  # Transparent for NaNs\n"
   ]
  }
 ],
 "metadata": {
  "kernelspec": {
   "display_name": "Python (PyHD)",
   "language": "python",
   "name": "pyhd"
  },
  "language_info": {
   "codemirror_mode": {
    "name": "ipython",
    "version": 3
   },
   "file_extension": ".py",
   "mimetype": "text/x-python",
   "name": "python",
   "nbconvert_exporter": "python",
   "pygments_lexer": "ipython3",
   "version": "3.10.10"
  }
 },
 "nbformat": 4,
 "nbformat_minor": 2
}
